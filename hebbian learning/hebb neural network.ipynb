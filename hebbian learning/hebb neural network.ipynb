{
 "cells": [
  {
   "cell_type": "code",
   "execution_count": 1,
   "id": "a654ccc2-28d4-4716-89f7-0f3bba617765",
   "metadata": {},
   "outputs": [],
   "source": [
    "import numpy as np\n",
    "from tensorflow.keras.datasets import mnist\n",
    "import matplotlib.pyplot as plt\n"
   ]
  },
  {
   "cell_type": "code",
   "execution_count": 19,
   "id": "e3c6f3ae-caa0-426a-b4a1-226e99f2415c",
   "metadata": {},
   "outputs": [
    {
     "name": "stdout",
     "output_type": "stream",
     "text": [
      "(60000, 28, 28)\n",
      "(10000, 28, 28)\n",
      "(60000, 784)\n",
      "(10000, 784)\n"
     ]
    }
   ],
   "source": [
    "(x_train, y_train), (x_test, y_test) = mnist.load_data()\n",
    "print(x_train.shape)\n",
    "print(x_test.shape)\n",
    "\n",
    "x_train = x_train.reshape(len(x_train), 28*28) / 255.0  \n",
    "x_test = x_test.reshape(len(x_test), 28*28) / 255.0\n",
    "\n",
    "print(x_train.shape)\n",
    "print(x_test.shape)\n",
    "\n",
    "# because we have work on [0-9]\n",
    "num_neurons = 10 \n",
    "# small number for weights\n",
    "weights = np.random.randn(28*28, num_neurons) * 0.01\n",
    "\n",
    "# initialize bias to 0\n",
    "bias = np.zeros(num_neurons) "
   ]
  },
  {
   "cell_type": "code",
   "execution_count": 20,
   "id": "fc8079bd-c3de-49b0-9aa0-308c82b5576f",
   "metadata": {},
   "outputs": [],
   "source": [
    "\n",
    "def hebbian_learning(x, y, weights, bias, ):\n",
    "   \n",
    "    target = np.zeros(num_neurons)\n",
    "    target[y] = 1\n",
    "\n",
    "    # I can also write without outerr function,,i used another way of update weights in single layer perecptron and adaline way,,,\n",
    "    weights +=  np.outer(x, target)  \n",
    "    bias +=  target\n",
    "    return weights , bias\n"
   ]
  },
  {
   "cell_type": "code",
   "execution_count": 41,
   "id": "3d1ac67f-962d-4fe7-b0c5-e306db99ef41",
   "metadata": {},
   "outputs": [],
   "source": [
    " # Train the network using the Hebbian learning rule that i defind above\n",
    "def train_hebbs_nn(x_train, y_train, weights, bias):\n",
    "    for i in range(len(x_train)):\n",
    "            x = x_train[i]\n",
    "            y = y_train[i]\n",
    "            weights, bias = hebbian_learning(x, y, weights, bias)\n",
    "    print(\"finished training\")\n",
    "    \n",
    "    return weights , bias\n",
    "    "
   ]
  },
  {
   "cell_type": "code",
   "execution_count": 42,
   "id": "5384f813-3def-4bf3-aeaf-01ce76cfc02f",
   "metadata": {},
   "outputs": [],
   "source": [
    "# this is Test function and accuracy\n",
    "def test_hebbs_nn(x_test, y_test, weights , bias):\n",
    "    correct = 0\n",
    "    predictions = []\n",
    "   \n",
    "    for i in range(len(x_test)): \n",
    "        x = x_test[i]\n",
    "        \n",
    "        output = np.dot(x, weights) + bias\n",
    "        \n",
    "        # so after the this .dot function of x and weights,,we need to  Find the neuron with the maximum output\n",
    "        # np.argmax(output): This function returns the index of the maximum value in the output array. The index corresponds to the \"most activated\" neuron, which can be thought of as the predicted class (digit) in this case.\n",
    "        # For example, if the output is [0.5, 2.0, 0.3, 0.1, ...], np.argmax(output) would return 1 (indicating that the neuron corresponding to label 1 has the highest activation).\n",
    "        predicted_label = np.argmax(output)\n",
    "        predictions.append((predicted_label, y_test[i], x_test[i]))\n",
    "        correct += (predicted_label == y_test[i])\n",
    "    \n",
    "    accuracy = correct / len(x_test) * 100\n",
    "    return predictions, accuracy\n"
   ]
  },
  {
   "cell_type": "code",
   "execution_count": 43,
   "id": "8c12f387-5ab2-4c06-b9a6-cb90a5807942",
   "metadata": {},
   "outputs": [],
   "source": [
    "\n",
    "# i got this plot from chatGPT\n",
    "def plot_results(predictions):\n",
    "    \n",
    "    plt.figure(figsize=(12, 6))\n",
    "    \n",
    "    for i in range(6):  # Display first 6 test images\n",
    "        predicted_label, true_label, image = predictions[i]\n",
    "        plt.subplot(1, 6, i + 1)\n",
    "        plt.imshow(image.reshape(28, 28))\n",
    "        plt.title(f'Predicted Label: {predicted_label}\\nTrue Label: {true_label}')\n",
    "        plt.axis('off')\n",
    "    \n",
    "    plt.tight_layout()\n",
    "    plt.show()\n"
   ]
  },
  {
   "cell_type": "code",
   "execution_count": 44,
   "id": "11d27a2e-d517-470b-8a91-1c7542309830",
   "metadata": {},
   "outputs": [
    {
     "name": "stdout",
     "output_type": "stream",
     "text": [
      "finished training\n"
     ]
    }
   ],
   "source": [
    "#  Run the training\n",
    "weights, bias = train_hebbs_nn(x_train, y_train, weights, bias)\n"
   ]
  },
  {
   "cell_type": "code",
   "execution_count": 45,
   "id": "11d7842a-8f07-42de-900e-a474be765e00",
   "metadata": {},
   "outputs": [
    {
     "name": "stdout",
     "output_type": "stream",
     "text": [
      "Test Accuracy: 68.08%\n"
     ]
    }
   ],
   "source": [
    "#  Test the trained model and get predictions\n",
    "predictions, test_accuracy = test_hebbs_nn(x_test, y_test, weights, bias)\n",
    "print(f'Test Accuracy: {test_accuracy:.2f}%')\n"
   ]
  },
  {
   "cell_type": "code",
   "execution_count": 40,
   "id": "d6c0da5f-07d3-4ea4-bb21-dba333f9ddcd",
   "metadata": {},
   "outputs": [
    {
     "data": {
      "image/png": "[encoded data removed]",
      "text/plain": [
       "<Figure size 1200x600 with 6 Axes>"
      ]
     },
     "metadata": {},
     "output_type": "display_data"
    }
   ],
   "source": [
    "plot_results(predictions)"
   ]
  },
  {
   "cell_type": "code",
   "execution_count": null,
   "id": "afa5af92-41c2-448d-9d30-c6ef7c280355",
   "metadata": {},
   "outputs": [],
   "source": []
  }
 ],
 "metadata": {
  "kernelspec": {
   "display_name": "Python 3 (ipykernel)",
   "language": "python",
   "name": "python3"
  },
  "language_info": {
   "codemirror_mode": {
    "name": "ipython",
    "version": 3
   },
   "file_extension": ".py",
   "mimetype": "text/x-python",
   "name": "python",
   "nbconvert_exporter": "python",
   "pygments_lexer": "ipython3",
   "version": "3.11.4"
  }
 },
 "nbformat": 4,
 "nbformat_minor": 5
}
