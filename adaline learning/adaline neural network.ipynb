{
 "cells": [
  {
   "cell_type": "code",
   "execution_count": 92,
   "id": "62c01757-2c30-4b82-ae27-520302b83a35",
   "metadata": {},
   "outputs": [],
   "source": [
    "import numpy as np\n",
    "import tensorflow as tf\n",
    "import matplotlib.pyplot as plt"
   ]
  },
  {
   "cell_type": "code",
   "execution_count": 93,
   "id": "154f0903-8555-4652-8879-2021f4c524dc",
   "metadata": {},
   "outputs": [],
   "source": [
    "mnist = tf.keras.datasets.mnist\n",
    "(X_train, y_train), (X_test, y_test) = mnist.load_data()\n",
    "\n",
    "X_train = X_train.reshape(len(X_train), 28 * 28) / 255.0\n",
    "X_test = X_test.reshape(len(X_test), 28 * 28) / 255.0\n",
    "\n",
    "num_features = 28 * 28  \n",
    "num_classes = 10  \n",
    "learning_rate = 0.001\n",
    "\n",
    "# epochs = 200\n",
    "epochs = 15\n",
    "theta = 0 "
   ]
  },
  {
   "cell_type": "code",
   "execution_count": 94,
   "id": "0f1bb8bd-f6dc-4437-aff6-ebcf5e64a16b",
   "metadata": {},
   "outputs": [],
   "source": [
    "y_train_encoded = np.eye(num_classes)[y_train]\n",
    "y_test_encoded = np.eye(num_classes)[y_test]\n",
    "\n",
    "# Small random values\n",
    "weights = np.random.uniform(-0.01, 0.01, (num_features, num_classes))  \n",
    "\n",
    "bias = np.zeros(num_classes)\n",
    "\n",
    "# Define the activation function (linear output for Adaline)\n",
    "def activation_function(y_in):\n",
    "    return y_in  # Identity (linear) function\n"
   ]
  },
  {
   "cell_type": "code",
   "execution_count": 95,
   "id": "167fbb8c-3331-4307-8591-3dfa95f8ec54",
   "metadata": {},
   "outputs": [],
   "source": [
    "# Training ...\n",
    "def train_model_adaline(X_train, y_train_encoded, weights, bias, learning_rate, epochs):\n",
    "    for epoch in range(epochs):\n",
    "        for i in range(len(X_train)):\n",
    "            # Calculate the linear output (no thresholding i mean theta)\n",
    "            y_in = np.dot(X_train[i], weights) + bias\n",
    "             # Linear output\n",
    "            y_pred = activation_function(y_in) \n",
    "            # Calculate the error (difference between predicted and actual values)\n",
    "            error = y_train_encoded[i] - y_pred\n",
    "            #this is the adaline learning rule...\n",
    "            for j in range(num_classes):\n",
    "                # Update weights\n",
    "                weights[:, j] += learning_rate * error[j] * X_train[i]  \n",
    "            # Update bias\n",
    "            bias += learning_rate * error\n",
    "        \n",
    "        print(f\"Epoch {epoch + 1}/{epochs}\")\n",
    "    return weights, bias"
   ]
  },
  {
   "cell_type": "code",
   "execution_count": 96,
   "id": "e813d1b4-d4c8-42ca-9b48-af0cce8f47a7",
   "metadata": {},
   "outputs": [],
   "source": [
    "# Testing ...\n",
    "def test_model_adaline(X_test, y_test_encoded, weights, bias):\n",
    "    y_test_pred_scores = np.dot(X_test, weights) + bias\n",
    "     # Predicted class\n",
    "    y_test_pred = np.argmax(y_test_pred_scores, axis=1) \n",
    "    # Actual class labels\n",
    "    y_test_actual = np.argmax(y_test_encoded, axis=1)  \n",
    "    \n",
    "    correct_predictions = np.sum(y_test_actual == y_test_pred)\n",
    "    total_predictions = len(y_test_actual)\n",
    "    test_accuracy = correct_predictions / total_predictions\n",
    "    return test_accuracy, y_test_pred, y_test_actual"
   ]
  },
  {
   "cell_type": "code",
   "execution_count": 97,
   "id": "777ab52c-8b21-4b38-93b7-75c5fd27532f",
   "metadata": {},
   "outputs": [
    {
     "name": "stdout",
     "output_type": "stream",
     "text": [
      "Epoch 1/15\n",
      "Epoch 2/15\n",
      "Epoch 3/15\n",
      "Epoch 4/15\n",
      "Epoch 5/15\n",
      "Epoch 6/15\n",
      "Epoch 7/15\n",
      "Epoch 8/15\n",
      "Epoch 9/15\n",
      "Epoch 10/15\n",
      "Epoch 11/15\n",
      "Epoch 12/15\n",
      "Epoch 13/15\n",
      "Epoch 14/15\n",
      "Epoch 15/15\n"
     ]
    }
   ],
   "source": [
    "# Train i wwroted model\n",
    "weights, bias = train_model_adaline(X_train, y_train_encoded, weights, bias, learning_rate, epochs)"
   ]
  },
  {
   "cell_type": "code",
   "execution_count": 98,
   "id": "97ee8fb4-2b48-40bc-b0d7-eeb54ee58ef2",
   "metadata": {},
   "outputs": [
    {
     "name": "stdout",
     "output_type": "stream",
     "text": [
      "Final Test Accuracy: 82.69%\n"
     ]
    }
   ],
   "source": [
    "# Test i wroted model...finitoo cosito\n",
    "test_accuracy, y_test_pred, y_test_actual = test_model(X_test, y_test_encoded, weights, bias, theta)\n",
    "print(f\"Final Test Accuracy: {test_accuracy * 100:.2f}%\")\n"
   ]
  }
 ],
 "metadata": {
  "kernelspec": {
   "display_name": "Python 3 (ipykernel)",
   "language": "python",
   "name": "python3"
  },
  "language_info": {
   "codemirror_mode": {
    "name": "ipython",
    "version": 3
   },
   "file_extension": ".py",
   "mimetype": "text/x-python",
   "name": "python",
   "nbconvert_exporter": "python",
   "pygments_lexer": "ipython3",
   "version": "3.11.4"
  }
 },
 "nbformat": 4,
 "nbformat_minor": 5
}
