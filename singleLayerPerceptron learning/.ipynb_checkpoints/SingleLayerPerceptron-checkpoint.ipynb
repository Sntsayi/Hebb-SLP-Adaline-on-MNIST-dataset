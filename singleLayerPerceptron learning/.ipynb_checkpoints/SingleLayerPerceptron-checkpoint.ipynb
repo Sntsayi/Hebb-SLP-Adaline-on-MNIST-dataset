{
 "cells": [
  {
   "cell_type": "code",
   "execution_count": 1,
   "id": "05bc3cb5-7a64-4ff6-8fa9-f14bf335db61",
   "metadata": {},
   "outputs": [],
   "source": [
    "import numpy as np\n",
    "import tensorflow as tf\n",
    "import matplotlib.pyplot as plt"
   ]
  },
  {
   "cell_type": "code",
   "execution_count": 2,
   "id": "bcad80b7-5799-4243-9584-dd2d8061617b",
   "metadata": {},
   "outputs": [],
   "source": [
    "mnist = tf.keras.datasets.mnist\n",
    "(X_train, y_train), (X_test, y_test) = mnist.load_data()\n",
    "\n",
    "# flatten and  normalize pixel in to [0-1]\n",
    "X_train = X_train.reshape(len(X_train), 28 * 28) / 255.0\n",
    "X_test = X_test.reshape(len(X_test), 28 * 28) / 255.0"
   ]
  },
  {
   "cell_type": "code",
   "execution_count": 8,
   "id": "09d07e36-ffae-4b75-8c01-ccaca7a41601",
   "metadata": {},
   "outputs": [],
   "source": [
    "# Number of pixels per image\n",
    "num_features = 784 \n",
    "num_classes = 10  # Digits 0-9\n",
    "learning_rate = 0.00019\n",
    "theta = 550 # Threshold for activation\n",
    "\n",
    "# One-hot encode the labels\n",
    "y_train_encoded = np.eye(num_classes)[y_train]\n",
    "y_test_encoded = np.eye(num_classes)[y_test]\n",
    "\n",
    "# Initialize weights and bias with 0\n",
    "weights = np.zeros((num_features, num_classes))\n",
    "bias = np.zeros(num_classes)\n"
   ]
  },
  {
   "cell_type": "code",
   "execution_count": 4,
   "id": "85452bd9-df31-4407-ada3-a2604abbcecf",
   "metadata": {},
   "outputs": [],
   "source": [
    "# this is activation function of perceptron learning\n",
    "def activation_function(y_in, theta):\n",
    "    result = np.zeros_like(y_in)\n",
    "    result[y_in > theta] = 1\n",
    "    result[(y_in <= theta) & (y_in >= -theta)] = 0\n",
    "    result[y_in < -theta] = -1\n",
    "    return result"
   ]
  },
  {
   "cell_type": "code",
   "execution_count": 5,
   "id": "9323d575-3afd-4529-b6bb-4d082e335b88",
   "metadata": {},
   "outputs": [],
   "source": [
    "# More epochs give the model additional time to fine-tune the weights.\n",
    "# epochs = 200\n",
    "epochs = 15\n",
    "# Training function\n",
    "def train_model(X_train, y_train_encoded, weights, bias, learning_rate, epochs, theta):\n",
    "    for epoch in range(epochs):\n",
    "        for i in range(len(X_train)):\n",
    "            # This is the Net\n",
    "            y_in = np.dot(X_train[i], weights) + bias\n",
    "            # this is the output\n",
    "            y_pred = activation_function(y_in, theta)\n",
    "\n",
    "            # Update weights and bias for each class\n",
    "            for j in range(num_classes):\n",
    "            # y_train_encoded[i][j] this is the target\n",
    "                if y_pred[j] != y_train_encoded[i][j]:\n",
    "                    weights[:, j] += learning_rate * y_train_encoded[i][j] * X_train[i]\n",
    "                    bias[j] += learning_rate * y_train_encoded[i][j]\n",
    "\n",
    "        print(f\"Epoch {epoch + 1}/{epochs} completed\")\n",
    "    return weights, bias"
   ]
  },
  {
   "cell_type": "code",
   "execution_count": 10,
   "id": "af9e40fb-032b-48ce-aab9-986db33086c2",
   "metadata": {},
   "outputs": [],
   "source": [
    "def test_model(X_test, y_test_encoded, weights, bias, theta):\n",
    "  \n",
    "    y_test_pred_scores = np.dot(X_test, weights) + bias\n",
    "    y_test_pred = np.argmax(y_test_pred_scores, axis=1)\n",
    "    y_test_actual = np.argmax(y_test_encoded, axis=1)\n",
    "    correct_predictions = np.sum(y_test_actual == y_test_pred)\n",
    "    total_predictions = len(y_test_actual)\n",
    "    test_accuracy = correct_predictions / total_predictions\n",
    "    return test_accuracy, y_test_pred, y_test_actual\n"
   ]
  },
  {
   "cell_type": "code",
   "execution_count": 11,
   "id": "8fa179ee-5d2a-45f8-916b-7029ef28e7b9",
   "metadata": {},
   "outputs": [
    {
     "name": "stdout",
     "output_type": "stream",
     "text": [
      "Epoch 1/15 completed\n",
      "Epoch 2/15 completed\n",
      "Epoch 3/15 completed\n",
      "Epoch 4/15 completed\n",
      "Epoch 5/15 completed\n",
      "Epoch 6/15 completed\n",
      "Epoch 7/15 completed\n",
      "Epoch 8/15 completed\n",
      "Epoch 9/15 completed\n",
      "Epoch 10/15 completed\n",
      "Epoch 11/15 completed\n",
      "Epoch 12/15 completed\n",
      "Epoch 13/15 completed\n",
      "Epoch 14/15 completed\n",
      "Epoch 15/15 completed\n"
     ]
    }
   ],
   "source": [
    "# Train the model\n",
    "weights, bias = train_model(X_train, y_train_encoded, weights, bias, learning_rate, epochs, theta)"
   ]
  },
  {
   "cell_type": "code",
   "execution_count": 12,
   "id": "2ebc465b-5455-472f-a6fd-1b4c1a0e4771",
   "metadata": {},
   "outputs": [
    {
     "name": "stdout",
     "output_type": "stream",
     "text": [
      "Test Accuracy: 79.38%\n"
     ]
    }
   ],
   "source": [
    "# Test the model\n",
    "test_accuracy, y_test_pred, y_test_actual = test_model(X_test, y_test_encoded, weights, bias, theta)\n",
    "print(f\"Test Accuracy: {test_accuracy * 100:.2f}%\")"
   ]
  },
  {
   "cell_type": "code",
   "execution_count": 13,
   "id": "bd00cb62-654d-472d-ad8f-c9490444e2c5",
   "metadata": {},
   "outputs": [
    {
     "data": {
      "image/png": "[encoded data removed]",
      "text/plain": [
       "<Figure size 1000x500 with 1 Axes>"
      ]
     },
     "metadata": {},
     "output_type": "display_data"
    }
   ],
   "source": [
    " # Plot some test images with true and predicted labels....i got this plotting implementation form chatGPT\n",
    "num_images = 1  # Number of images to display\n",
    "indices = np.random.choice(len(X_test), num_images, replace=False)\n",
    "\n",
    "plt.figure(figsize=(10, 5))\n",
    "for i, idx in enumerate(indices):\n",
    "    image = X_test[idx].reshape(28, 28)  # Reshape to 28x28 image\n",
    "    true_label = y_test_actual[idx]  # Get true label\n",
    "    predicted_label = y_test_pred[idx]  # Get predicted label\n",
    "\n",
    "    plt.subplot(1, num_images, i + 1)\n",
    "    plt.imshow(image, cmap='gray')\n",
    "    plt.title(f\"Pred: {predicted_label} \\n True: {true_label}\")\n",
    "    plt.axis('off')\n",
    "\n",
    "plt.tight_layout()\n",
    "plt.show()\n"
   ]
  },
  {
   "cell_type": "code",
   "execution_count": null,
   "id": "f5d12141-8dc8-4db6-afcf-bf71296a48da",
   "metadata": {},
   "outputs": [],
   "source": []
  }
 ],
 "metadata": {
  "kernelspec": {
   "display_name": "Python 3 (ipykernel)",
   "language": "python",
   "name": "python3"
  },
  "language_info": {
   "codemirror_mode": {
    "name": "ipython",
    "version": 3
   },
   "file_extension": ".py",
   "mimetype": "text/x-python",
   "name": "python",
   "nbconvert_exporter": "python",
   "pygments_lexer": "ipython3",
   "version": "3.11.4"
  }
 },
 "nbformat": 4,
 "nbformat_minor": 5
}
